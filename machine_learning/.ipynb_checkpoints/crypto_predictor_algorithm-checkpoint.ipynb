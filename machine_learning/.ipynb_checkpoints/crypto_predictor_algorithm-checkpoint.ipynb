{
 "cells": [
  {
   "cell_type": "code",
   "execution_count": 2,
   "id": "84b957eb",
   "metadata": {},
   "outputs": [],
   "source": [
    "import os\n",
    "import glob\n",
    "import pandas as pd\n",
    "import numpy as np\n",
    "import statistics\n",
    "import math\n",
    "import matplotlib.pyplot as plt\n",
    "import matplotlib.dates as mdates\n",
    "import warnings\n",
    "import sys\n",
    "from copy import deepcopy\n",
    "from random import randrange\n",
    "from sklearn.model_selection import cross_validate, GridSearchCV\n",
    "from sklearn.svm import SVR\n",
    "from sklearn.metrics import mean_absolute_error as MRE\n",
    "warnings.filterwarnings('ignore')\n",
    "import datetime\n",
    "from datetime import datetime\n",
    "from pycoingecko import CoinGeckoAPI\n",
    "cg = CoinGeckoAPI()"
   ]
  },
  {
   "cell_type": "code",
   "execution_count": 26,
   "id": "9a45ddaf",
   "metadata": {},
   "outputs": [],
   "source": [
    "bitcoin = cg.get_coin_market_chart_range_by_id(id = 'bitcoin', vs_currency = 'usd', from_timestamp = '1420070400', to_timestamp ='1627850685')"
   ]
  },
  {
   "cell_type": "code",
   "execution_count": 27,
   "id": "1caf319a",
   "metadata": {},
   "outputs": [],
   "source": [
    "bitcoin_prices = bitcoin.get(\"prices\")\n",
    "bitcoin_array_prices = np.array(bitcoin_prices)"
   ]
  },
  {
   "cell_type": "code",
   "execution_count": 28,
   "id": "4bce4277",
   "metadata": {},
   "outputs": [
    {
     "name": "stdout",
     "output_type": "stream",
     "text": [
      "      UTC_timestamp         price\n",
      "0      1.420070e+12    313.992000\n",
      "1      1.420157e+12    314.446000\n",
      "2      1.420243e+12    286.572000\n",
      "3      1.420330e+12    260.936000\n",
      "4      1.420416e+12    273.220000\n",
      "...             ...           ...\n",
      "2399   1.627430e+12  39076.593771\n",
      "2400   1.627517e+12  40031.198244\n",
      "2401   1.627603e+12  39977.756939\n",
      "2402   1.627690e+12  41936.261479\n",
      "2403   1.627776e+12  41754.166604\n",
      "\n",
      "[2404 rows x 2 columns]\n"
     ]
    }
   ],
   "source": [
    "bitcoin_df = pd.DataFrame(bitcoin_array_prices, columns = [\"UTC_timestamp\", \"price\"])\n",
    "print(bitcoin_df)"
   ]
  },
  {
   "cell_type": "code",
   "execution_count": 29,
   "id": "56ca2f25",
   "metadata": {},
   "outputs": [
    {
     "name": "stdout",
     "output_type": "stream",
     "text": [
      "     UTC_timestamp         price\n",
      "0       2015-01-01    313.992000\n",
      "1       2015-01-02    314.446000\n",
      "2       2015-01-03    286.572000\n",
      "3       2015-01-04    260.936000\n",
      "4       2015-01-05    273.220000\n",
      "...            ...           ...\n",
      "2399    2021-07-28  39076.593771\n",
      "2400    2021-07-29  40031.198244\n",
      "2401    2021-07-30  39977.756939\n",
      "2402    2021-07-31  41936.261479\n",
      "2403    2021-08-01  41754.166604\n",
      "\n",
      "[2404 rows x 2 columns]\n"
     ]
    }
   ],
   "source": [
    "bitcoin_df[\"UTC_timestamp\"] = pd.to_datetime(bitcoin_df[\"UTC_timestamp\"], origin = 'unix', unit = 'ms')\n",
    "print(bitcoin_df)"
   ]
  },
  {
   "cell_type": "code",
   "execution_count": 30,
   "id": "469b3402",
   "metadata": {},
   "outputs": [],
   "source": [
    "test_df = bitcoin_df.copy(deep = True)"
   ]
  },
  {
   "cell_type": "code",
   "execution_count": 31,
   "id": "05f64609",
   "metadata": {},
   "outputs": [
    {
     "name": "stdout",
     "output_type": "stream",
     "text": [
      "                      price\n",
      "UTC_timestamp              \n",
      "2015-01-01       313.992000\n",
      "2015-01-02       314.446000\n",
      "2015-01-03       286.572000\n",
      "2015-01-04       260.936000\n",
      "2015-01-05       273.220000\n",
      "...                     ...\n",
      "2021-07-28     39076.593771\n",
      "2021-07-29     40031.198244\n",
      "2021-07-30     39977.756939\n",
      "2021-07-31     41936.261479\n",
      "2021-08-01     41754.166604\n",
      "\n",
      "[2404 rows x 1 columns]\n"
     ]
    }
   ],
   "source": [
    "bitcoin_df.set_index(\"UTC_timestamp\", inplace=True)\n",
    "test_df.set_index(\"UTC_timestamp\", inplace=True)\n",
    "print(test_df)"
   ]
  },
  {
   "cell_type": "code",
   "execution_count": 32,
   "id": "de7718f0",
   "metadata": {},
   "outputs": [
    {
     "data": {
      "image/png": "[encoded data removed]",
      "text/plain": [
       "<Figure size 864x432 with 1 Axes>"
      ]
     },
     "metadata": {
      "needs_background": "light"
     },
     "output_type": "display_data"
    }
   ],
   "source": [
    "plt.figure(figsize = (12,6))\n",
    "plt.plot(bitcoin_df[\"price\"])\n",
    "plt.xlabel('Date',fontsize=15)\n",
    "plt.ylabel('Price',fontsize=15)\n",
    "plt.show()"
   ]
  },
  {
   "cell_type": "code",
   "execution_count": 33,
   "id": "e75b726d",
   "metadata": {},
   "outputs": [
    {
     "name": "stdout",
     "output_type": "stream",
     "text": [
      "     UTC_timestamp         price\n",
      "0       2015-01-01    313.992000\n",
      "1       2015-01-02    314.446000\n",
      "2       2015-01-03    286.572000\n",
      "3       2015-01-04    260.936000\n",
      "4       2015-01-05    273.220000\n",
      "...            ...           ...\n",
      "2399    2021-07-28  39076.593771\n",
      "2400    2021-07-29  40031.198244\n",
      "2401    2021-07-30  39977.756939\n",
      "2402    2021-07-31  41936.261479\n",
      "2403    2021-08-01  41754.166604\n",
      "\n",
      "[2404 rows x 2 columns]\n"
     ]
    },
    {
     "data": {
      "text/plain": [
       "UTC_timestamp    datetime64[ns]\n",
       "price                   float64\n",
       "dtype: object"
      ]
     },
     "execution_count": 33,
     "metadata": {},
     "output_type": "execute_result"
    }
   ],
   "source": [
    "bitcoin_train = bitcoin_df.copy(deep = True)\n",
    "bitcoin_train = bitcoin_train.reset_index()\n",
    "print(bitcoin_train)\n",
    "bitcoin_train.dtypes"
   ]
  },
  {
   "cell_type": "code",
   "execution_count": 34,
   "id": "c9402657",
   "metadata": {},
   "outputs": [],
   "source": [
    "regular_dates = bitcoin_train[\"UTC_timestamp\"]"
   ]
  },
  {
   "cell_type": "code",
   "execution_count": 35,
   "id": "8ef0eabf",
   "metadata": {},
   "outputs": [
    {
     "name": "stdout",
     "output_type": "stream",
     "text": [
      "0      2015-01-01\n",
      "1      2015-01-02\n",
      "2      2015-01-03\n",
      "3      2015-01-04\n",
      "4      2015-01-05\n",
      "          ...    \n",
      "2399   2021-07-28\n",
      "2400   2021-07-29\n",
      "2401   2021-07-30\n",
      "2402   2021-07-31\n",
      "2403   2021-08-01\n",
      "Name: UTC_timestamp, Length: 2404, dtype: datetime64[ns]\n",
      "<class 'pandas.core.frame.DataFrame'>\n"
     ]
    }
   ],
   "source": [
    "bitcoin_train[\"UTC_timestamp\"] = bitcoin_train[\"UTC_timestamp\"].map(mdates.date2num)\n",
    "bitcoin_train.head(5)\n",
    "print(regular_dates)\n",
    "print(type(bitcoin_train))"
   ]
  },
  {
   "cell_type": "code",
   "execution_count": 36,
   "id": "fd76e5ab",
   "metadata": {},
   "outputs": [],
   "source": [
    "X_Train_dates = bitcoin_train[\"UTC_timestamp\"].values\n",
    "Y_Train_prices = bitcoin_df[\"price\"].values"
   ]
  },
  {
   "cell_type": "code",
   "execution_count": 37,
   "id": "61754c04",
   "metadata": {},
   "outputs": [
    {
     "name": "stdout",
     "output_type": "stream",
     "text": [
      "[16436. 16437. 16438. ... 18838. 18839. 18840.]\n"
     ]
    }
   ],
   "source": [
    "print(X_Train_dates)"
   ]
  },
  {
   "cell_type": "code",
   "execution_count": 38,
   "id": "15741f29",
   "metadata": {},
   "outputs": [
    {
     "data": {
      "image/png": "[encoded data removed]",
      "text/plain": [
       "<Figure size 864x432 with 1 Axes>"
      ]
     },
     "metadata": {
      "needs_background": "light"
     },
     "output_type": "display_data"
    }
   ],
   "source": [
    "#Convert to 1d Vector\n",
    "X_Train_dates = np.reshape(X_Train_dates, (len(X_Train_dates), 1))\n",
    "Y_Train_prices = np.reshape(Y_Train_prices, (len(Y_Train_prices), 1))\n",
    "\n",
    "svr_rbf = SVR(kernel= 'rbf', C = 1e5, gamma= 0.001)\n",
    "svr_rbf.fit(X_Train_dates, Y_Train_prices)\n",
    "\n",
    "plt.figure(figsize = (12,6))\n",
    "plt.plot(X_Train_dates, Y_Train_prices, color= 'black', label= 'Data')\n",
    "plt.plot(regular_dates, svr_rbf.predict(X_Train_dates), color= 'red', label= 'RBF model') \n",
    "plt.xlabel('Date')\n",
    "plt.ylabel('Price')\n",
    "plt.legend()\n",
    "plt.show()"
   ]
  },
  {
   "cell_type": "markdown",
   "id": "155bf173",
   "metadata": {},
   "source": [
    "#### Forecasting for the RBF kernalized SVR (3 days out)"
   ]
  },
  {
   "cell_type": "code",
   "execution_count": null,
   "id": "d01bddf0",
   "metadata": {},
   "outputs": [],
   "source": [
    "forecast_3 = 3 #number of days ahead to forecast"
   ]
  },
  {
   "cell_type": "code",
   "execution_count": null,
   "id": "26336ecd",
   "metadata": {},
   "outputs": [],
   "source": [
    "prediction_3 = [] # filling list with timedelta values for prediction\n",
    "for x in range(forecast_3):\n",
    "    prediction_3.append(np.datetime64('2021-01-01') - np.datetime64(-(x+1), 'D'))\n",
    "print(prediction_3)"
   ]
  },
  {
   "cell_type": "code",
   "execution_count": null,
   "id": "55fcbea6",
   "metadata": {},
   "outputs": [],
   "source": [
    "prediction_3 = np.reshape(prediction_3, (len(prediction_3), 1))\n",
    "print(svr_rbf.predict(prediction_3)) #feeding in timedelta values to predict future prices"
   ]
  },
  {
   "cell_type": "code",
   "execution_count": null,
   "id": "61239127",
   "metadata": {},
   "outputs": [],
   "source": [
    "forecast_dates_3 = [] #filling in list with forecasting dates in a regular format\n",
    "for x in range(forecast_3):\n",
    "    forecast_dates_14.append(np.datetime64('2021-01-01') + np.timedelta64(x, 'D'))\n",
    "print(forecast_dates_3)"
   ]
  },
  {
   "cell_type": "code",
   "execution_count": null,
   "id": "9ab696da",
   "metadata": {},
   "outputs": [],
   "source": [
    "plt.figure(figsize = (12,6))\n",
    "plt.plot(forecast_dates_3, svr_rbf.predict(prediction_3), color= 'red', label= 'RBF model') \n",
    "plt.xlabel('Date')\n",
    "plt.ylabel('Price')\n",
    "plt.title(\"5-day Price Projection\")\n",
    "plt.legend()\n",
    "plt.show()"
   ]
  },
  {
   "cell_type": "markdown",
   "id": "77947643",
   "metadata": {},
   "source": [
    "#### Forecasting for the RBF kernalized SVR (5 days out)"
   ]
  },
  {
   "cell_type": "code",
   "execution_count": 39,
   "id": "484be24e",
   "metadata": {},
   "outputs": [],
   "source": [
    "forecast_5 = 5 #number of days ahead to forecast"
   ]
  },
  {
   "cell_type": "code",
   "execution_count": 40,
   "id": "6a72c9f1",
   "metadata": {},
   "outputs": [
    {
     "name": "stdout",
     "output_type": "stream",
     "text": [
      "[numpy.timedelta64(18629,'D'), numpy.timedelta64(18630,'D'), numpy.timedelta64(18631,'D'), numpy.timedelta64(18632,'D'), numpy.timedelta64(18633,'D'), numpy.timedelta64(18634,'D'), numpy.timedelta64(18635,'D'), numpy.timedelta64(18636,'D'), numpy.timedelta64(18637,'D'), numpy.timedelta64(18638,'D'), numpy.timedelta64(18639,'D'), numpy.timedelta64(18640,'D'), numpy.timedelta64(18641,'D'), numpy.timedelta64(18642,'D')]\n"
     ]
    }
   ],
   "source": [
    "prediction_5 = [] # filling list with timedelta values for prediction\n",
    "for x in range(forecast_5):\n",
    "    prediction_5.append(np.datetime64('2021-01-01') - np.datetime64(-(x+1), 'D'))\n",
    "print(prediction_5)"
   ]
  },
  {
   "cell_type": "code",
   "execution_count": 41,
   "id": "04517602",
   "metadata": {},
   "outputs": [
    {
     "name": "stdout",
     "output_type": "stream",
     "text": [
      "[31581.95863857 32321.35561218 33002.21420486 33616.38641188\n",
      " 34156.99119158 34618.5995661  34997.38968058 35291.26720407\n",
      " 35499.94725012 35624.99491458 35669.82254932 35639.64298748\n",
      " 35541.37907745 35383.53103924]\n"
     ]
    }
   ],
   "source": [
    "prediction_5 = np.reshape(prediction_5, (len(prediction_5), 1))\n",
    "print(svr_rbf.predict(prediction_5)) #feeding in timedelta values to predict future prices"
   ]
  },
  {
   "cell_type": "code",
   "execution_count": 42,
   "id": "b3923d87",
   "metadata": {},
   "outputs": [
    {
     "name": "stdout",
     "output_type": "stream",
     "text": [
      "[numpy.datetime64('2021-01-01'), numpy.datetime64('2021-01-02'), numpy.datetime64('2021-01-03'), numpy.datetime64('2021-01-04'), numpy.datetime64('2021-01-05'), numpy.datetime64('2021-01-06'), numpy.datetime64('2021-01-07'), numpy.datetime64('2021-01-08'), numpy.datetime64('2021-01-09'), numpy.datetime64('2021-01-10'), numpy.datetime64('2021-01-11'), numpy.datetime64('2021-01-12'), numpy.datetime64('2021-01-13'), numpy.datetime64('2021-01-14')]\n"
     ]
    }
   ],
   "source": [
    "forecast_dates_5 = [] #filling in list with forecasting dates in a regular format\n",
    "for x in range(forecast_5):\n",
    "    forecast_dates_14.append(np.datetime64('2021-01-01') + np.timedelta64(x, 'D'))\n",
    "print(forecast_dates_5)"
   ]
  },
  {
   "cell_type": "code",
   "execution_count": 43,
   "id": "fbf130c9",
   "metadata": {},
   "outputs": [
    {
     "data": {
      "image/png": "[encoded data removed]",
      "text/plain": [
       "<Figure size 864x432 with 1 Axes>"
      ]
     },
     "metadata": {
      "needs_background": "light"
     },
     "output_type": "display_data"
    }
   ],
   "source": [
    "plt.figure(figsize = (12,6))\n",
    "plt.plot(forecast_dates_5, svr_rbf.predict(prediction_5), color= 'red', label= 'RBF model') \n",
    "plt.xlabel('Date')\n",
    "plt.ylabel('Price')\n",
    "plt.title(\"5-day Price Projection\")\n",
    "plt.legend()\n",
    "plt.show()"
   ]
  },
  {
   "cell_type": "markdown",
   "id": "e27a3c4d",
   "metadata": {},
   "source": [
    "#### Forecasting for the RBF kernalized SVR (7 days out)"
   ]
  },
  {
   "cell_type": "code",
   "execution_count": 44,
   "id": "97f83c64",
   "metadata": {},
   "outputs": [
    {
     "name": "stdout",
     "output_type": "stream",
     "text": [
      "[numpy.timedelta64(18629,'D'), numpy.timedelta64(18630,'D'), numpy.timedelta64(18631,'D'), numpy.timedelta64(18632,'D'), numpy.timedelta64(18633,'D'), numpy.timedelta64(18634,'D'), numpy.timedelta64(18635,'D')]\n"
     ]
    }
   ],
   "source": [
    "forecast_7 = 7\n",
    "prediction_7 = [] # filling list with timedelta values for prediction\n",
    "for x in range(forecast_7):\n",
    "    prediction_7.append(np.datetime64('2021-01-01') - np.datetime64(-(x+1), 'D'))\n",
    "print(prediction_7)"
   ]
  },
  {
   "cell_type": "code",
   "execution_count": 45,
   "id": "4c46f514",
   "metadata": {},
   "outputs": [
    {
     "name": "stdout",
     "output_type": "stream",
     "text": [
      "[31581.95863857 32321.35561218 33002.21420486 33616.38641188\n",
      " 34156.99119158 34618.5995661  34997.38968058]\n"
     ]
    }
   ],
   "source": [
    "prediction_7 = np.reshape(prediction_7, (len(prediction_7), 1))\n",
    "prediction_7_list = svr_rbf.predict(prediction_7)\n",
    "print(prediction_7_list) #feeding in timedelta values to predict future prices"
   ]
  },
  {
   "cell_type": "code",
   "execution_count": 46,
   "id": "8a9c77b8",
   "metadata": {},
   "outputs": [
    {
     "name": "stdout",
     "output_type": "stream",
     "text": [
      "[numpy.datetime64('2021-01-01'), numpy.datetime64('2021-01-02'), numpy.datetime64('2021-01-03'), numpy.datetime64('2021-01-04'), numpy.datetime64('2021-01-05'), numpy.datetime64('2021-01-06'), numpy.datetime64('2021-01-07')]\n"
     ]
    }
   ],
   "source": [
    "forecast_dates_7 = [] #filling in list with forecasting dates in a regular format\n",
    "for x in range(forecast_7):\n",
    "    forecast_dates_7.append(np.datetime64('2021-01-01') + np.timedelta64(x, 'D'))\n",
    "print(forecast_dates_7)"
   ]
  },
  {
   "cell_type": "code",
   "execution_count": 47,
   "id": "794228bb",
   "metadata": {},
   "outputs": [
    {
     "data": {
      "image/png": "[encoded data removed]",
      "text/plain": [
       "<Figure size 864x432 with 1 Axes>"
      ]
     },
     "metadata": {
      "needs_background": "light"
     },
     "output_type": "display_data"
    }
   ],
   "source": [
    "plt.figure(figsize = (12,6))\n",
    "plt.plot(forecast_dates_7, svr_rbf.predict(prediction_7), color= 'red', label= 'RBF model') \n",
    "plt.xlabel('Date')\n",
    "plt.ylabel('Price')\n",
    "plt.title(\"7-day Price Projection\")\n",
    "plt.legend()\n",
    "plt.show()"
   ]
  },
  {
   "cell_type": "code",
   "execution_count": 48,
   "id": "3535d343",
   "metadata": {},
   "outputs": [],
   "source": [
    "def rolling_forecast_origin(train, min_train_size, horizon):\n",
    "    for i in range(len(train) - min_train_size - horizon + 1):\n",
    "        split_train = train[:min_train_size+i]\n",
    "        split_val = train[min_train_size+i:min_train_size+i+horizon]\n",
    "        yield split_train, split_val"
   ]
  },
  {
   "cell_type": "code",
   "execution_count": 67,
   "id": "97c09692",
   "metadata": {},
   "outputs": [
    {
     "data": {
      "text/plain": [
       "<generator object rolling_forecast_origin at 0x000001F470668350>"
      ]
     },
     "execution_count": 67,
     "metadata": {},
     "output_type": "execute_result"
    }
   ],
   "source": [
    "cv_rolling = rolling_forecast_origin(X_Train_dates, min_train_size = 500, horizon = 100)\n",
    "cv_rolling"
   ]
  },
  {
   "cell_type": "code",
   "execution_count": null,
   "id": "9e5f87b3",
   "metadata": {},
   "outputs": [],
   "source": []
  },
  {
   "cell_type": "code",
   "execution_count": 70,
   "id": "2a55f229",
   "metadata": {},
   "outputs": [],
   "source": [
    "def cross_validation_score(model, train, cv, metric):\n",
    "    cv_scores = []\n",
    "    for cv_train, cv_test in cv:\n",
    "        model.fit(train, Y_Train_prices)\n",
    "        predictions = model.predict(len(cv_test))\n",
    "        score = metric(y_true = cv_test, y_predictions = predictions)\n",
    "        cv_scores.append(score)\n",
    "    return np.array(cv_scores)"
   ]
  },
  {
   "cell_type": "code",
   "execution_count": 73,
   "id": "ff7bd5b1",
   "metadata": {},
   "outputs": [
    {
     "ename": "ValueError",
     "evalue": "Expected 2D array, got scalar array instead:\narray=100.0.\nReshape your data either using array.reshape(-1, 1) if your data has a single feature or array.reshape(1, -1) if it contains a single sample.",
     "output_type": "error",
     "traceback": [
      "\u001b[1;31m---------------------------------------------------------------------------\u001b[0m",
      "\u001b[1;31mValueError\u001b[0m                                Traceback (most recent call last)",
      "\u001b[1;32m<ipython-input-73-3ea90b472824>\u001b[0m in \u001b[0;36m<module>\u001b[1;34m\u001b[0m\n\u001b[1;32m----> 1\u001b[1;33m \u001b[0mcv_scores_1\u001b[0m \u001b[1;33m=\u001b[0m \u001b[0mcross_validation_score\u001b[0m\u001b[1;33m(\u001b[0m\u001b[0mmodel\u001b[0m \u001b[1;33m=\u001b[0m \u001b[0msvr_rbf\u001b[0m\u001b[1;33m,\u001b[0m \u001b[0mtrain\u001b[0m \u001b[1;33m=\u001b[0m \u001b[0mX_Train_dates\u001b[0m\u001b[1;33m,\u001b[0m \u001b[0mcv\u001b[0m\u001b[1;33m=\u001b[0m \u001b[0mcv_rolling\u001b[0m\u001b[1;33m,\u001b[0m \u001b[0mmetric\u001b[0m \u001b[1;33m=\u001b[0m \u001b[0mMRE\u001b[0m\u001b[1;33m)\u001b[0m\u001b[1;33m\u001b[0m\u001b[1;33m\u001b[0m\u001b[0m\n\u001b[0m",
      "\u001b[1;32m<ipython-input-70-b612683a6192>\u001b[0m in \u001b[0;36mcross_validation_score\u001b[1;34m(model, train, cv, metric)\u001b[0m\n\u001b[0;32m      3\u001b[0m     \u001b[1;32mfor\u001b[0m \u001b[0mcv_train\u001b[0m\u001b[1;33m,\u001b[0m \u001b[0mcv_test\u001b[0m \u001b[1;32min\u001b[0m \u001b[0mcv\u001b[0m\u001b[1;33m:\u001b[0m\u001b[1;33m\u001b[0m\u001b[1;33m\u001b[0m\u001b[0m\n\u001b[0;32m      4\u001b[0m         \u001b[0mmodel\u001b[0m\u001b[1;33m.\u001b[0m\u001b[0mfit\u001b[0m\u001b[1;33m(\u001b[0m\u001b[0mtrain\u001b[0m\u001b[1;33m,\u001b[0m \u001b[0mY_Train_prices\u001b[0m\u001b[1;33m)\u001b[0m\u001b[1;33m\u001b[0m\u001b[1;33m\u001b[0m\u001b[0m\n\u001b[1;32m----> 5\u001b[1;33m         \u001b[0mpredictions\u001b[0m \u001b[1;33m=\u001b[0m \u001b[0mmodel\u001b[0m\u001b[1;33m.\u001b[0m\u001b[0mpredict\u001b[0m\u001b[1;33m(\u001b[0m\u001b[0mlen\u001b[0m\u001b[1;33m(\u001b[0m\u001b[0mcv_test\u001b[0m\u001b[1;33m)\u001b[0m\u001b[1;33m)\u001b[0m\u001b[1;33m\u001b[0m\u001b[1;33m\u001b[0m\u001b[0m\n\u001b[0m\u001b[0;32m      6\u001b[0m         \u001b[0mscore\u001b[0m \u001b[1;33m=\u001b[0m \u001b[0mmetric\u001b[0m\u001b[1;33m(\u001b[0m\u001b[0my_true\u001b[0m \u001b[1;33m=\u001b[0m \u001b[0mcv_test\u001b[0m\u001b[1;33m,\u001b[0m \u001b[0my_predictions\u001b[0m \u001b[1;33m=\u001b[0m \u001b[0mpredictions\u001b[0m\u001b[1;33m)\u001b[0m\u001b[1;33m\u001b[0m\u001b[1;33m\u001b[0m\u001b[0m\n\u001b[0;32m      7\u001b[0m         \u001b[0mcv_scores\u001b[0m\u001b[1;33m.\u001b[0m\u001b[0mappend\u001b[0m\u001b[1;33m(\u001b[0m\u001b[0mscore\u001b[0m\u001b[1;33m)\u001b[0m\u001b[1;33m\u001b[0m\u001b[1;33m\u001b[0m\u001b[0m\n",
      "\u001b[1;32m~\\anaconda3\\lib\\site-packages\\sklearn\\svm\\_base.py\u001b[0m in \u001b[0;36mpredict\u001b[1;34m(self, X)\u001b[0m\n\u001b[0;32m    340\u001b[0m         \u001b[0my_pred\u001b[0m \u001b[1;33m:\u001b[0m \u001b[0mndarray\u001b[0m \u001b[0mof\u001b[0m \u001b[0mshape\u001b[0m \u001b[1;33m(\u001b[0m\u001b[0mn_samples\u001b[0m\u001b[1;33m,\u001b[0m\u001b[1;33m)\u001b[0m\u001b[1;33m\u001b[0m\u001b[1;33m\u001b[0m\u001b[0m\n\u001b[0;32m    341\u001b[0m         \"\"\"\n\u001b[1;32m--> 342\u001b[1;33m         \u001b[0mX\u001b[0m \u001b[1;33m=\u001b[0m \u001b[0mself\u001b[0m\u001b[1;33m.\u001b[0m\u001b[0m_validate_for_predict\u001b[0m\u001b[1;33m(\u001b[0m\u001b[0mX\u001b[0m\u001b[1;33m)\u001b[0m\u001b[1;33m\u001b[0m\u001b[1;33m\u001b[0m\u001b[0m\n\u001b[0m\u001b[0;32m    343\u001b[0m         \u001b[0mpredict\u001b[0m \u001b[1;33m=\u001b[0m \u001b[0mself\u001b[0m\u001b[1;33m.\u001b[0m\u001b[0m_sparse_predict\u001b[0m \u001b[1;32mif\u001b[0m \u001b[0mself\u001b[0m\u001b[1;33m.\u001b[0m\u001b[0m_sparse\u001b[0m \u001b[1;32melse\u001b[0m \u001b[0mself\u001b[0m\u001b[1;33m.\u001b[0m\u001b[0m_dense_predict\u001b[0m\u001b[1;33m\u001b[0m\u001b[1;33m\u001b[0m\u001b[0m\n\u001b[0;32m    344\u001b[0m         \u001b[1;32mreturn\u001b[0m \u001b[0mpredict\u001b[0m\u001b[1;33m(\u001b[0m\u001b[0mX\u001b[0m\u001b[1;33m)\u001b[0m\u001b[1;33m\u001b[0m\u001b[1;33m\u001b[0m\u001b[0m\n",
      "\u001b[1;32m~\\anaconda3\\lib\\site-packages\\sklearn\\svm\\_base.py\u001b[0m in \u001b[0;36m_validate_for_predict\u001b[1;34m(self, X)\u001b[0m\n\u001b[0;32m    472\u001b[0m \u001b[1;33m\u001b[0m\u001b[0m\n\u001b[0;32m    473\u001b[0m         \u001b[1;32mif\u001b[0m \u001b[1;32mnot\u001b[0m \u001b[0mcallable\u001b[0m\u001b[1;33m(\u001b[0m\u001b[0mself\u001b[0m\u001b[1;33m.\u001b[0m\u001b[0mkernel\u001b[0m\u001b[1;33m)\u001b[0m\u001b[1;33m:\u001b[0m\u001b[1;33m\u001b[0m\u001b[1;33m\u001b[0m\u001b[0m\n\u001b[1;32m--> 474\u001b[1;33m             X = check_array(X, accept_sparse='csr', dtype=np.float64,\n\u001b[0m\u001b[0;32m    475\u001b[0m                             order=\"C\", accept_large_sparse=False)\n\u001b[0;32m    476\u001b[0m \u001b[1;33m\u001b[0m\u001b[0m\n",
      "\u001b[1;32m~\\anaconda3\\lib\\site-packages\\sklearn\\utils\\validation.py\u001b[0m in \u001b[0;36minner_f\u001b[1;34m(*args, **kwargs)\u001b[0m\n\u001b[0;32m     61\u001b[0m             \u001b[0mextra_args\u001b[0m \u001b[1;33m=\u001b[0m \u001b[0mlen\u001b[0m\u001b[1;33m(\u001b[0m\u001b[0margs\u001b[0m\u001b[1;33m)\u001b[0m \u001b[1;33m-\u001b[0m \u001b[0mlen\u001b[0m\u001b[1;33m(\u001b[0m\u001b[0mall_args\u001b[0m\u001b[1;33m)\u001b[0m\u001b[1;33m\u001b[0m\u001b[1;33m\u001b[0m\u001b[0m\n\u001b[0;32m     62\u001b[0m             \u001b[1;32mif\u001b[0m \u001b[0mextra_args\u001b[0m \u001b[1;33m<=\u001b[0m \u001b[1;36m0\u001b[0m\u001b[1;33m:\u001b[0m\u001b[1;33m\u001b[0m\u001b[1;33m\u001b[0m\u001b[0m\n\u001b[1;32m---> 63\u001b[1;33m                 \u001b[1;32mreturn\u001b[0m \u001b[0mf\u001b[0m\u001b[1;33m(\u001b[0m\u001b[1;33m*\u001b[0m\u001b[0margs\u001b[0m\u001b[1;33m,\u001b[0m \u001b[1;33m**\u001b[0m\u001b[0mkwargs\u001b[0m\u001b[1;33m)\u001b[0m\u001b[1;33m\u001b[0m\u001b[1;33m\u001b[0m\u001b[0m\n\u001b[0m\u001b[0;32m     64\u001b[0m \u001b[1;33m\u001b[0m\u001b[0m\n\u001b[0;32m     65\u001b[0m             \u001b[1;31m# extra_args > 0\u001b[0m\u001b[1;33m\u001b[0m\u001b[1;33m\u001b[0m\u001b[1;33m\u001b[0m\u001b[0m\n",
      "\u001b[1;32m~\\anaconda3\\lib\\site-packages\\sklearn\\utils\\validation.py\u001b[0m in \u001b[0;36mcheck_array\u001b[1;34m(array, accept_sparse, accept_large_sparse, dtype, order, copy, force_all_finite, ensure_2d, allow_nd, ensure_min_samples, ensure_min_features, estimator)\u001b[0m\n\u001b[0;32m    628\u001b[0m             \u001b[1;31m# If input is scalar raise error\u001b[0m\u001b[1;33m\u001b[0m\u001b[1;33m\u001b[0m\u001b[1;33m\u001b[0m\u001b[0m\n\u001b[0;32m    629\u001b[0m             \u001b[1;32mif\u001b[0m \u001b[0marray\u001b[0m\u001b[1;33m.\u001b[0m\u001b[0mndim\u001b[0m \u001b[1;33m==\u001b[0m \u001b[1;36m0\u001b[0m\u001b[1;33m:\u001b[0m\u001b[1;33m\u001b[0m\u001b[1;33m\u001b[0m\u001b[0m\n\u001b[1;32m--> 630\u001b[1;33m                 raise ValueError(\n\u001b[0m\u001b[0;32m    631\u001b[0m                     \u001b[1;34m\"Expected 2D array, got scalar array instead:\\narray={}.\\n\"\u001b[0m\u001b[1;33m\u001b[0m\u001b[1;33m\u001b[0m\u001b[0m\n\u001b[0;32m    632\u001b[0m                     \u001b[1;34m\"Reshape your data either using array.reshape(-1, 1) if \"\u001b[0m\u001b[1;33m\u001b[0m\u001b[1;33m\u001b[0m\u001b[0m\n",
      "\u001b[1;31mValueError\u001b[0m: Expected 2D array, got scalar array instead:\narray=100.0.\nReshape your data either using array.reshape(-1, 1) if your data has a single feature or array.reshape(1, -1) if it contains a single sample."
     ]
    }
   ],
   "source": [
    "cv_scores_1 = cross_validation_score(model = svr_rbf, train = X_Train_dates, cv= cv_rolling, metric = MRE)"
   ]
  },
  {
   "cell_type": "code",
   "execution_count": null,
   "id": "23718e8a",
   "metadata": {},
   "outputs": [],
   "source": [
    "pd.DataFrame(cv_scores_1).describe()"
   ]
  },
  {
   "cell_type": "code",
   "execution_count": null,
   "id": "80b20e87",
   "metadata": {},
   "outputs": [],
   "source": []
  }
 ],
 "metadata": {
  "kernelspec": {
   "display_name": "Python 3",
   "language": "python",
   "name": "python3"
  },
  "language_info": {
   "codemirror_mode": {
    "name": "ipython",
    "version": 3
   },
   "file_extension": ".py",
   "mimetype": "text/x-python",
   "name": "python",
   "nbconvert_exporter": "python",
   "pygments_lexer": "ipython3",
   "version": "3.8.8"
  }
 },
 "nbformat": 4,
 "nbformat_minor": 5
}
